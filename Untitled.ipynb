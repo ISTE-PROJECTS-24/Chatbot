{
 "cells": [
  {
   "cell_type": "code",
   "execution_count": 2,
   "id": "bb11c3b9",
   "metadata": {},
   "outputs": [
    {
     "name": "stdout",
     "output_type": "stream",
     "text": [
      "WARNING:tensorflow:From C:\\Users\\shivansh\\Chatbot\\chatbot\\lib\\site-packages\\keras\\src\\backend.py:873: The name tf.get_default_graph is deprecated. Please use tf.compat.v1.get_default_graph instead.\n",
      "\n"
     ]
    },
    {
     "name": "stderr",
     "output_type": "stream",
     "text": [
      "All model checkpoint layers were used when initializing TFGPT2LMHeadModel.\n",
      "\n",
      "All the layers of TFGPT2LMHeadModel were initialized from the model checkpoint at microsoft/DialoGPT-medium.\n",
      "If your task is similar to the task the model of the checkpoint was trained on, you can already use TFGPT2LMHeadModel for predictions without further training.\n",
      "A decoder-only architecture is being used, but right-padding was detected! For correct generation results, please set `padding_side='left'` when initializing the tokenizer.\n"
     ]
    },
    {
     "data": {
      "text/plain": [
       "Conversation id: 419bab52-5f0f-4728-a26d-b4ae37f958d9\n",
       "user: hello!\n",
       "assistant: Hello! :D"
      ]
     },
     "execution_count": 2,
     "metadata": {},
     "output_type": "execute_result"
    }
   ],
   "source": [
    "import transformers\n",
    "nlp = transformers.pipeline(\"conversational\", \n",
    "                            model=\"microsoft/DialoGPT-medium\")\n",
    "#Time to try it out\n",
    "input_text = \"hello!\"\n",
    "nlp(transformers.Conversation(input_text), pad_token_id=50256)"
   ]
  },
  {
   "cell_type": "code",
   "execution_count": 3,
   "id": "962a716d",
   "metadata": {},
   "outputs": [
    {
     "name": "stdout",
     "output_type": "stream",
     "text": [
      "User: Yoooo!\n"
     ]
    },
    {
     "name": "stderr",
     "output_type": "stream",
     "text": [
      "A decoder-only architecture is being used, but right-padding was detected! For correct generation results, please set `padding_side='left'` when initializing the tokenizer.\n"
     ]
    },
    {
     "name": "stdout",
     "output_type": "stream",
     "text": [
      "Conversation id: 680c3976-cb87-4488-95a7-76e4b95d3d49\n",
      "user: Yoooo!\n",
      "assistant: I'm so excited!\n",
      "\n",
      "User: let's go mate\n"
     ]
    },
    {
     "name": "stderr",
     "output_type": "stream",
     "text": [
      "A decoder-only architecture is being used, but right-padding was detected! For correct generation results, please set `padding_side='left'` when initializing the tokenizer.\n"
     ]
    },
    {
     "name": "stdout",
     "output_type": "stream",
     "text": [
      "Conversation id: 5142a828-c20e-4200-9324-b0a3f37f37bd\n",
      "user: let's go mate\n",
      "assistant: I'm not your mate, buddy.\n",
      "\n",
      "User: why so rude\n"
     ]
    },
    {
     "name": "stderr",
     "output_type": "stream",
     "text": [
      "A decoder-only architecture is being used, but right-padding was detected! For correct generation results, please set `padding_side='left'` when initializing the tokenizer.\n"
     ]
    },
    {
     "name": "stdout",
     "output_type": "stream",
     "text": [
      "Conversation id: d124a3f2-b894-4716-b56d-a334322ea09d\n",
      "user: why so rude\n",
      "assistant: I'm not rude, I'm just a little bit of a wuss.\n",
      "\n",
      "User: bye\n",
      "GoodBye\n"
     ]
    }
   ],
   "source": [
    "while True:\n",
    "    input_text=input('User: ')\n",
    "    if input_text.lower()=='bye':\n",
    "        print('GoodBye')\n",
    "        break\n",
    "    print(nlp(transformers.Conversation(input_text), pad_token_id=50256))\n",
    "    \n",
    "        "
   ]
  },
  {
   "cell_type": "code",
   "execution_count": 29,
   "id": "d7d74dcf",
   "metadata": {},
   "outputs": [],
   "source": [
    "import pandas as pd\n",
    "df=pd.read_excel('AttachmentMIT-Academic_Calendar_2023-24.-1 (2).xlsx')"
   ]
  },
  {
   "cell_type": "code",
   "execution_count": 30,
   "id": "9aa2f756",
   "metadata": {},
   "outputs": [],
   "source": [
    "df.drop([0,1],inplace=True)\n",
    "df.columns=df.iloc[0]"
   ]
  },
  {
   "cell_type": "code",
   "execution_count": 34,
   "id": "65942211",
   "metadata": {},
   "outputs": [],
   "source": [
    "df.drop(2,inplace=True)"
   ]
  },
  {
   "cell_type": "code",
   "execution_count": 36,
   "id": "dc767cd9",
   "metadata": {},
   "outputs": [
    {
     "data": {
      "text/html": [
       "<div>\n",
       "<style scoped>\n",
       "    .dataframe tbody tr th:only-of-type {\n",
       "        vertical-align: middle;\n",
       "    }\n",
       "\n",
       "    .dataframe tbody tr th {\n",
       "        vertical-align: top;\n",
       "    }\n",
       "\n",
       "    .dataframe thead th {\n",
       "        text-align: right;\n",
       "    }\n",
       "</style>\n",
       "<table border=\"1\" class=\"dataframe\">\n",
       "  <thead>\n",
       "    <tr style=\"text-align: right;\">\n",
       "      <th>2</th>\n",
       "      <th>NaN</th>\n",
       "      <th>July -23</th>\n",
       "      <th>Aug -23</th>\n",
       "      <th>Sept -23</th>\n",
       "      <th>Oct -23</th>\n",
       "      <th>Nov -23</th>\n",
       "      <th>Dec -23</th>\n",
       "      <th>NaN</th>\n",
       "      <th>Jan -24</th>\n",
       "      <th>Feb -24</th>\n",
       "      <th>Mar -24</th>\n",
       "      <th>Apr -24</th>\n",
       "      <th>May -24</th>\n",
       "      <th>Jun -24</th>\n",
       "      <th>July -24</th>\n",
       "    </tr>\n",
       "  </thead>\n",
       "  <tbody>\n",
       "    <tr>\n",
       "      <th>3</th>\n",
       "      <td>NaN</td>\n",
       "      <td>1 S</td>\n",
       "      <td>1 T</td>\n",
       "      <td>1 F</td>\n",
       "      <td>1 SUNDAY</td>\n",
       "      <td>1 W Kannada Rajyotsava</td>\n",
       "      <td>1 F</td>\n",
       "      <td>NaN</td>\n",
       "      <td>1M</td>\n",
       "      <td>1 TH</td>\n",
       "      <td>1 F</td>\n",
       "      <td>Last Date to\\nApply for\\nBranch Change\\nUtsav</td>\n",
       "      <td>1 W</td>\n",
       "      <td>1 S</td>\n",
       "      <td>1 M</td>\n",
       "    </tr>\n",
       "    <tr>\n",
       "      <th>4</th>\n",
       "      <td>NaN</td>\n",
       "      <td>2 SUNDAY</td>\n",
       "      <td>2 W</td>\n",
       "      <td>2 S</td>\n",
       "      <td>2 M Gandhi Jayanthi</td>\n",
       "      <td>NaN</td>\n",
       "      <td>Publishing list of\\nS unsuccessful\\nstudents i...</td>\n",
       "      <td>NaN</td>\n",
       "      <td>2T</td>\n",
       "      <td>NaN</td>\n",
       "      <td>NaN</td>\n",
       "      <td>NaN</td>\n",
       "      <td>Publishing list of\\n2 TH unsuccessful\\nstudent...</td>\n",
       "      <td>NaN</td>\n",
       "      <td>2 T</td>\n",
       "    </tr>\n",
       "    <tr>\n",
       "      <th>5</th>\n",
       "      <td>NaN</td>\n",
       "      <td>NaN</td>\n",
       "      <td>NaN</td>\n",
       "      <td>NaN</td>\n",
       "      <td>NaN</td>\n",
       "      <td>NaN</td>\n",
       "      <td>NaN</td>\n",
       "      <td>NaN</td>\n",
       "      <td>NaN</td>\n",
       "      <td>2 F</td>\n",
       "      <td>Applying for Branch\\nChange starts</td>\n",
       "      <td>NaN</td>\n",
       "      <td>NaN</td>\n",
       "      <td>2 SUNDAY</td>\n",
       "      <td>NaN</td>\n",
       "    </tr>\n",
       "    <tr>\n",
       "      <th>6</th>\n",
       "      <td>NaN</td>\n",
       "      <td>NaN</td>\n",
       "      <td>NaN</td>\n",
       "      <td>NaN</td>\n",
       "      <td>NaN</td>\n",
       "      <td>2 TH</td>\n",
       "      <td>NaN</td>\n",
       "      <td>NaN</td>\n",
       "      <td>NaN</td>\n",
       "      <td>NaN</td>\n",
       "      <td>NaN</td>\n",
       "      <td>NaN</td>\n",
       "      <td>NaN</td>\n",
       "      <td>NaN</td>\n",
       "      <td>NaN</td>\n",
       "    </tr>\n",
       "    <tr>\n",
       "      <th>7</th>\n",
       "      <td>NaN</td>\n",
       "      <td>3 M</td>\n",
       "      <td>3 TH</td>\n",
       "      <td>3 SUNDAY</td>\n",
       "      <td>NaN</td>\n",
       "      <td>NaN</td>\n",
       "      <td>NaN</td>\n",
       "      <td>NaN</td>\n",
       "      <td>II, IV, VI Semester\\nB. Tech./II Semester\\nM.T...</td>\n",
       "      <td>NaN</td>\n",
       "      <td>NaN</td>\n",
       "      <td>NaN</td>\n",
       "      <td>NaN</td>\n",
       "      <td>NaN</td>\n",
       "      <td>3 W</td>\n",
       "    </tr>\n",
       "    <tr>\n",
       "      <th>...</th>\n",
       "      <td>...</td>\n",
       "      <td>...</td>\n",
       "      <td>...</td>\n",
       "      <td>...</td>\n",
       "      <td>...</td>\n",
       "      <td>...</td>\n",
       "      <td>...</td>\n",
       "      <td>...</td>\n",
       "      <td>...</td>\n",
       "      <td>...</td>\n",
       "      <td>...</td>\n",
       "      <td>...</td>\n",
       "      <td>...</td>\n",
       "      <td>...</td>\n",
       "      <td>...</td>\n",
       "    </tr>\n",
       "    <tr>\n",
       "      <th>128</th>\n",
       "      <td>NaN</td>\n",
       "      <td>NaN</td>\n",
       "      <td>NaN</td>\n",
       "      <td>30S Mid-term Exam</td>\n",
       "      <td>NaN</td>\n",
       "      <td>NaN</td>\n",
       "      <td>NaN</td>\n",
       "      <td>NaN</td>\n",
       "      <td>30 T</td>\n",
       "      <td>NaN</td>\n",
       "      <td>30 S</td>\n",
       "      <td>NaN</td>\n",
       "      <td>30 TH</td>\n",
       "      <td>NaN</td>\n",
       "      <td>NaN</td>\n",
       "    </tr>\n",
       "    <tr>\n",
       "      <th>129</th>\n",
       "      <td>NaN</td>\n",
       "      <td>NaN</td>\n",
       "      <td>NaN</td>\n",
       "      <td>NaN</td>\n",
       "      <td>30M</td>\n",
       "      <td>NaN</td>\n",
       "      <td>NaN</td>\n",
       "      <td>NaN</td>\n",
       "      <td>NaN</td>\n",
       "      <td>NaN</td>\n",
       "      <td>NaN</td>\n",
       "      <td>NaN</td>\n",
       "      <td>NaN</td>\n",
       "      <td>NaN</td>\n",
       "      <td>30 T</td>\n",
       "    </tr>\n",
       "    <tr>\n",
       "      <th>130</th>\n",
       "      <td>NaN</td>\n",
       "      <td>NaN</td>\n",
       "      <td>NaN</td>\n",
       "      <td>NaN</td>\n",
       "      <td>NaN</td>\n",
       "      <td>NaN</td>\n",
       "      <td>NaN</td>\n",
       "      <td>NaN</td>\n",
       "      <td>31 W</td>\n",
       "      <td>29 TH</td>\n",
       "      <td>NaN</td>\n",
       "      <td>30T</td>\n",
       "      <td>31 F</td>\n",
       "      <td>30 S</td>\n",
       "      <td>NaN</td>\n",
       "    </tr>\n",
       "    <tr>\n",
       "      <th>131</th>\n",
       "      <td>NaN</td>\n",
       "      <td>NaN</td>\n",
       "      <td>NaN</td>\n",
       "      <td>NaN</td>\n",
       "      <td>31 T</td>\n",
       "      <td>30TH</td>\n",
       "      <td>31SUNDAY</td>\n",
       "      <td>NaN</td>\n",
       "      <td>NaN</td>\n",
       "      <td>NaN</td>\n",
       "      <td>31 SUNDAY</td>\n",
       "      <td>NaN</td>\n",
       "      <td>NaN</td>\n",
       "      <td>NaN</td>\n",
       "      <td>31 W</td>\n",
       "    </tr>\n",
       "    <tr>\n",
       "      <th>132</th>\n",
       "      <td>* Holiday only for Students Tentative schedule...</td>\n",
       "      <td>NaN</td>\n",
       "      <td>NaN</td>\n",
       "      <td>NaN</td>\n",
       "      <td>NaN</td>\n",
       "      <td>NaN</td>\n",
       "      <td>NaN</td>\n",
       "      <td>NaN</td>\n",
       "      <td>NaN</td>\n",
       "      <td>NaN</td>\n",
       "      <td>NaN</td>\n",
       "      <td>NaN</td>\n",
       "      <td>NaN</td>\n",
       "      <td>NaN</td>\n",
       "      <td>NaN</td>\n",
       "    </tr>\n",
       "  </tbody>\n",
       "</table>\n",
       "<p>130 rows × 15 columns</p>\n",
       "</div>"
      ],
      "text/plain": [
       "2                                                  NaN  July -23 Aug -23  \\\n",
       "3                                                  NaN       1 S     1 T   \n",
       "4                                                  NaN  2 SUNDAY     2 W   \n",
       "5                                                  NaN       NaN     NaN   \n",
       "6                                                  NaN       NaN     NaN   \n",
       "7                                                  NaN       3 M    3 TH   \n",
       "..                                                 ...       ...     ...   \n",
       "128                                                NaN       NaN     NaN   \n",
       "129                                                NaN       NaN     NaN   \n",
       "130                                                NaN       NaN     NaN   \n",
       "131                                                NaN       NaN     NaN   \n",
       "132  * Holiday only for Students Tentative schedule...       NaN     NaN   \n",
       "\n",
       "2             Sept -23              Oct -23                 Nov -23  \\\n",
       "3                  1 F             1 SUNDAY  1 W Kannada Rajyotsava   \n",
       "4                  2 S  2 M Gandhi Jayanthi                     NaN   \n",
       "5                  NaN                  NaN                     NaN   \n",
       "6                  NaN                  NaN                    2 TH   \n",
       "7             3 SUNDAY                  NaN                     NaN   \n",
       "..                 ...                  ...                     ...   \n",
       "128  30S Mid-term Exam                  NaN                     NaN   \n",
       "129                NaN                  30M                     NaN   \n",
       "130                NaN                  NaN                     NaN   \n",
       "131                NaN                 31 T                    30TH   \n",
       "132                NaN                  NaN                     NaN   \n",
       "\n",
       "2                                              Dec -23  NaN  \\\n",
       "3                                                  1 F  NaN   \n",
       "4    Publishing list of\\nS unsuccessful\\nstudents i...  NaN   \n",
       "5                                                  NaN  NaN   \n",
       "6                                                  NaN  NaN   \n",
       "7                                                  NaN  NaN   \n",
       "..                                                 ...  ...   \n",
       "128                                                NaN  NaN   \n",
       "129                                                NaN  NaN   \n",
       "130                                                NaN  NaN   \n",
       "131                                           31SUNDAY  NaN   \n",
       "132                                                NaN  NaN   \n",
       "\n",
       "2                                              Jan -24 Feb -24  \\\n",
       "3                                                   1M    1 TH   \n",
       "4                                                   2T     NaN   \n",
       "5                                                  NaN     2 F   \n",
       "6                                                  NaN     NaN   \n",
       "7    II, IV, VI Semester\\nB. Tech./II Semester\\nM.T...     NaN   \n",
       "..                                                 ...     ...   \n",
       "128                                               30 T     NaN   \n",
       "129                                                NaN     NaN   \n",
       "130                                               31 W   29 TH   \n",
       "131                                                NaN     NaN   \n",
       "132                                                NaN     NaN   \n",
       "\n",
       "2                               Mar -24  \\\n",
       "3                                   1 F   \n",
       "4                                   NaN   \n",
       "5    Applying for Branch\\nChange starts   \n",
       "6                                   NaN   \n",
       "7                                   NaN   \n",
       "..                                  ...   \n",
       "128                                30 S   \n",
       "129                                 NaN   \n",
       "130                                 NaN   \n",
       "131                           31 SUNDAY   \n",
       "132                                 NaN   \n",
       "\n",
       "2                                          Apr -24  \\\n",
       "3    Last Date to\\nApply for\\nBranch Change\\nUtsav   \n",
       "4                                              NaN   \n",
       "5                                              NaN   \n",
       "6                                              NaN   \n",
       "7                                              NaN   \n",
       "..                                             ...   \n",
       "128                                            NaN   \n",
       "129                                            NaN   \n",
       "130                                            30T   \n",
       "131                                            NaN   \n",
       "132                                            NaN   \n",
       "\n",
       "2                                              May -24   Jun -24 July -24  \n",
       "3                                                  1 W       1 S      1 M  \n",
       "4    Publishing list of\\n2 TH unsuccessful\\nstudent...       NaN      2 T  \n",
       "5                                                  NaN  2 SUNDAY      NaN  \n",
       "6                                                  NaN       NaN      NaN  \n",
       "7                                                  NaN       NaN      3 W  \n",
       "..                                                 ...       ...      ...  \n",
       "128                                              30 TH       NaN      NaN  \n",
       "129                                                NaN       NaN     30 T  \n",
       "130                                               31 F      30 S      NaN  \n",
       "131                                                NaN       NaN     31 W  \n",
       "132                                                NaN       NaN      NaN  \n",
       "\n",
       "[130 rows x 15 columns]"
      ]
     },
     "execution_count": 36,
     "metadata": {},
     "output_type": "execute_result"
    }
   ],
   "source": [
    "df"
   ]
  },
  {
   "cell_type": "code",
   "execution_count": 80,
   "id": "07cffb86",
   "metadata": {},
   "outputs": [
    {
     "name": "stdout",
     "output_type": "stream",
     "text": [
      "User: hello\n"
     ]
    },
    {
     "name": "stderr",
     "output_type": "stream",
     "text": [
      "A decoder-only architecture is being used, but right-padding was detected! For correct generation results, please set `padding_side='left'` when initializing the tokenizer.\n"
     ]
    },
    {
     "name": "stdout",
     "output_type": "stream",
     "text": [
      "Conversation id: df9dfd0f-c0f1-4b1a-ac3c-9a53b764a8f8\n",
      "user: hello\n",
      "assistant: Hello! :D\n",
      "\n",
      "User: holiday\n",
      "July -23 : 15S Holiday\n",
      "Aug -23 : 19S Holiday\n",
      "Sept -23 : 16S Holiday\n",
      "Nov -23 : 18S Holiday\n",
      "Dec -23 : 16S Holiday\n",
      "Jan -24 : 20S Holiday\n"
     ]
    },
    {
     "name": "stderr",
     "output_type": "stream",
     "text": [
      "A decoder-only architecture is being used, but right-padding was detected! For correct generation results, please set `padding_side='left'` when initializing the tokenizer.\n"
     ]
    },
    {
     "name": "stdout",
     "output_type": "stream",
     "text": [
      "Feb -24 : 17 S Holiday\n",
      "Mar -24 : 13 W\n",
      "14 TH Revels\n",
      "15 F\n",
      "Holiday\n",
      "Revels\n",
      "Apr -24 : 20S Holiday\n",
      "May -24 : 18 S Holiday\n",
      "Jun -24 : 15 S Holiday\n",
      "July -24 : 20 S Holiday\n",
      "Conversation id: bde222df-51a5-41a4-b447-cbe5df08107f\n",
      "user: holiday\n",
      "assistant: Holiday\n",
      "\n",
      "User: when do i have a holiday?\n",
      "July -23 : 15S Holiday\n",
      "Aug -23 : 19S Holiday\n",
      "Sept -23 : 16S Holiday\n",
      "Nov -23 : 18S Holiday\n",
      "Dec -23 : 16S Holiday\n",
      "Jan -24 : 20S Holiday\n"
     ]
    },
    {
     "name": "stderr",
     "output_type": "stream",
     "text": [
      "A decoder-only architecture is being used, but right-padding was detected! For correct generation results, please set `padding_side='left'` when initializing the tokenizer.\n"
     ]
    },
    {
     "name": "stdout",
     "output_type": "stream",
     "text": [
      "Feb -24 : 17 S Holiday\n",
      "Apr -24 : 20S Holiday\n",
      "May -24 : 18 S Holiday\n",
      "Jun -24 : 15 S Holiday\n",
      "July -24 : 20 S Holiday\n",
      "Conversation id: 52d3904a-9864-4ba5-b865-b79c0a2ea99a\n",
      "user: when do i have a holiday?\n",
      "assistant: When you have a holiday, you have a holiday.\n",
      "\n",
      "User: diwali vacation?\n"
     ]
    },
    {
     "name": "stderr",
     "output_type": "stream",
     "text": [
      "A decoder-only architecture is being used, but right-padding was detected! For correct generation results, please set `padding_side='left'` when initializing the tokenizer.\n"
     ]
    },
    {
     "name": "stdout",
     "output_type": "stream",
     "text": [
      "Conversation id: 581f6aa6-8215-4692-b158-52ad908a63d0\n",
      "user: diwali vacation?\n",
      "assistant: I wish!\n",
      "\n",
      "User: diwali?\n"
     ]
    },
    {
     "name": "stderr",
     "output_type": "stream",
     "text": [
      "A decoder-only architecture is being used, but right-padding was detected! For correct generation results, please set `padding_side='left'` when initializing the tokenizer.\n"
     ]
    },
    {
     "name": "stdout",
     "output_type": "stream",
     "text": [
      "Conversation id: b1554925-d6a5-488d-8514-8b418191844f\n",
      "user: diwali?\n",
      "assistant: I'm not sure what that is, but I'm sure it's a holiday.\n",
      "\n",
      "User: deepavali vacation?\n",
      "Nov -23 : 13M Deepavali\n"
     ]
    },
    {
     "name": "stderr",
     "output_type": "stream",
     "text": [
      "A decoder-only architecture is being used, but right-padding was detected! For correct generation results, please set `padding_side='left'` when initializing the tokenizer.\n"
     ]
    },
    {
     "name": "stdout",
     "output_type": "stream",
     "text": [
      "Conversation id: 89437e45-20ae-4465-8c47-416536eb9abc\n",
      "user: deepavali vacation?\n",
      "assistant: I'm not sure what that is, but I'll look it up.\n",
      "\n",
      "User: bye\n",
      "GoodBye\n"
     ]
    }
   ],
   "source": [
    "import numpy as np\n",
    "from sklearn.metrics.pairwise import cosine_similarity\n",
    "from sklearn.feature_extraction.text import TfidfVectorizer\n",
    "while True:\n",
    "    input_text=input('User: ')\n",
    "    if input_text.lower()=='bye':\n",
    "        print('GoodBye')\n",
    "        break\n",
    "    for i in df.select_dtypes(include='object').columns:\n",
    "        for j in df[i]:\n",
    "            if type(j)!=float:\n",
    "                v=TfidfVectorizer()\n",
    "                vectors=v.fit_transform([j.lower(),input_text.lower()])\n",
    "                sim=cosine_similarity(vectors)[0][1]\n",
    "                if sim>0.2:\n",
    "                    print(f'{i} : {j}')\n",
    "    \n",
    "    print(nlp(transformers.Conversation(input_text), pad_token_id=50256))"
   ]
  }
 ],
 "metadata": {
  "kernelspec": {
   "display_name": "chatbot",
   "language": "python",
   "name": "chatbot"
  },
  "language_info": {
   "codemirror_mode": {
    "name": "ipython",
    "version": 3
   },
   "file_extension": ".py",
   "mimetype": "text/x-python",
   "name": "python",
   "nbconvert_exporter": "python",
   "pygments_lexer": "ipython3",
   "version": "3.9.13"
  }
 },
 "nbformat": 4,
 "nbformat_minor": 5
}
