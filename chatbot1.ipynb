{
 "cells": [
  {
   "cell_type": "code",
   "execution_count": 2,
   "id": "c5695961",
   "metadata": {},
   "outputs": [
    {
     "name": "stderr",
     "output_type": "stream",
     "text": [
      "C:\\Users\\shivansh\\Chatbot\\chatbot\\lib\\site-packages\\tqdm\\auto.py:21: TqdmWarning: IProgress not found. Please update jupyter and ipywidgets. See https://ipywidgets.readthedocs.io/en/stable/user_install.html\n",
      "  from .autonotebook import tqdm as notebook_tqdm\n"
     ]
    },
    {
     "name": "stdout",
     "output_type": "stream",
     "text": [
      "WARNING:tensorflow:From C:\\Users\\shivansh\\Chatbot\\chatbot\\lib\\site-packages\\keras\\src\\losses.py:2976: The name tf.losses.sparse_softmax_cross_entropy is deprecated. Please use tf.compat.v1.losses.sparse_softmax_cross_entropy instead.\n",
      "\n"
     ]
    }
   ],
   "source": [
    "import transformers\n",
    "nlp = transformers.pipeline(\"conversational\", \n",
    "                            model=\"microsoft/DialoGPT-medium\")"
   ]
  },
  {
   "cell_type": "code",
   "execution_count": 3,
   "id": "d7d74dcf",
   "metadata": {},
   "outputs": [],
   "source": [
    "import pandas as pd\n",
    "df=pd.read_excel('AttachmentMIT-Academic_Calendar_2023-24.-1 (2).xlsx')"
   ]
  },
  {
   "cell_type": "code",
   "execution_count": 4,
   "id": "9aa2f756",
   "metadata": {},
   "outputs": [],
   "source": [
    "df.drop([0,1],inplace=True)\n",
    "df.columns=df.iloc[0]"
   ]
  },
  {
   "cell_type": "code",
   "execution_count": 5,
   "id": "65942211",
   "metadata": {},
   "outputs": [],
   "source": [
    "df.drop(2,inplace=True)"
   ]
  },
  {
   "cell_type": "code",
   "execution_count": 6,
   "id": "dc767cd9",
   "metadata": {},
   "outputs": [
    {
     "data": {
      "text/html": [
       "<div>\n",
       "<style scoped>\n",
       "    .dataframe tbody tr th:only-of-type {\n",
       "        vertical-align: middle;\n",
       "    }\n",
       "\n",
       "    .dataframe tbody tr th {\n",
       "        vertical-align: top;\n",
       "    }\n",
       "\n",
       "    .dataframe thead th {\n",
       "        text-align: right;\n",
       "    }\n",
       "</style>\n",
       "<table border=\"1\" class=\"dataframe\">\n",
       "  <thead>\n",
       "    <tr style=\"text-align: right;\">\n",
       "      <th>2</th>\n",
       "      <th>NaN</th>\n",
       "      <th>July -23</th>\n",
       "      <th>Aug -23</th>\n",
       "      <th>Sept -23</th>\n",
       "      <th>Oct -23</th>\n",
       "      <th>Nov -23</th>\n",
       "      <th>Dec -23</th>\n",
       "      <th>NaN</th>\n",
       "      <th>Jan -24</th>\n",
       "      <th>Feb -24</th>\n",
       "      <th>Mar -24</th>\n",
       "      <th>Apr -24</th>\n",
       "      <th>May -24</th>\n",
       "      <th>Jun -24</th>\n",
       "      <th>July -24</th>\n",
       "    </tr>\n",
       "  </thead>\n",
       "  <tbody>\n",
       "    <tr>\n",
       "      <th>3</th>\n",
       "      <td>NaN</td>\n",
       "      <td>1 S</td>\n",
       "      <td>1 T</td>\n",
       "      <td>1 F</td>\n",
       "      <td>1 SUNDAY</td>\n",
       "      <td>1 W Kannada Rajyotsava</td>\n",
       "      <td>1 F</td>\n",
       "      <td>NaN</td>\n",
       "      <td>1M</td>\n",
       "      <td>1 TH</td>\n",
       "      <td>1 F</td>\n",
       "      <td>Last Date to\\nApply for\\nBranch Change\\nUtsav</td>\n",
       "      <td>1 W</td>\n",
       "      <td>1 S</td>\n",
       "      <td>1 M</td>\n",
       "    </tr>\n",
       "    <tr>\n",
       "      <th>4</th>\n",
       "      <td>NaN</td>\n",
       "      <td>2 SUNDAY</td>\n",
       "      <td>2 W</td>\n",
       "      <td>2 S</td>\n",
       "      <td>2 M Gandhi Jayanthi</td>\n",
       "      <td>NaN</td>\n",
       "      <td>Publishing list of\\nS unsuccessful\\nstudents i...</td>\n",
       "      <td>NaN</td>\n",
       "      <td>2T</td>\n",
       "      <td>NaN</td>\n",
       "      <td>NaN</td>\n",
       "      <td>NaN</td>\n",
       "      <td>Publishing list of\\n2 TH unsuccessful\\nstudent...</td>\n",
       "      <td>NaN</td>\n",
       "      <td>2 T</td>\n",
       "    </tr>\n",
       "    <tr>\n",
       "      <th>5</th>\n",
       "      <td>NaN</td>\n",
       "      <td>NaN</td>\n",
       "      <td>NaN</td>\n",
       "      <td>NaN</td>\n",
       "      <td>NaN</td>\n",
       "      <td>NaN</td>\n",
       "      <td>NaN</td>\n",
       "      <td>NaN</td>\n",
       "      <td>NaN</td>\n",
       "      <td>2 F</td>\n",
       "      <td>Applying for Branch\\nChange starts</td>\n",
       "      <td>NaN</td>\n",
       "      <td>NaN</td>\n",
       "      <td>2 SUNDAY</td>\n",
       "      <td>NaN</td>\n",
       "    </tr>\n",
       "    <tr>\n",
       "      <th>6</th>\n",
       "      <td>NaN</td>\n",
       "      <td>NaN</td>\n",
       "      <td>NaN</td>\n",
       "      <td>NaN</td>\n",
       "      <td>NaN</td>\n",
       "      <td>2 TH</td>\n",
       "      <td>NaN</td>\n",
       "      <td>NaN</td>\n",
       "      <td>NaN</td>\n",
       "      <td>NaN</td>\n",
       "      <td>NaN</td>\n",
       "      <td>NaN</td>\n",
       "      <td>NaN</td>\n",
       "      <td>NaN</td>\n",
       "      <td>NaN</td>\n",
       "    </tr>\n",
       "    <tr>\n",
       "      <th>7</th>\n",
       "      <td>NaN</td>\n",
       "      <td>3 M</td>\n",
       "      <td>3 TH</td>\n",
       "      <td>3 SUNDAY</td>\n",
       "      <td>NaN</td>\n",
       "      <td>NaN</td>\n",
       "      <td>NaN</td>\n",
       "      <td>NaN</td>\n",
       "      <td>II, IV, VI Semester\\nB. Tech./II Semester\\nM.T...</td>\n",
       "      <td>NaN</td>\n",
       "      <td>NaN</td>\n",
       "      <td>NaN</td>\n",
       "      <td>NaN</td>\n",
       "      <td>NaN</td>\n",
       "      <td>3 W</td>\n",
       "    </tr>\n",
       "    <tr>\n",
       "      <th>...</th>\n",
       "      <td>...</td>\n",
       "      <td>...</td>\n",
       "      <td>...</td>\n",
       "      <td>...</td>\n",
       "      <td>...</td>\n",
       "      <td>...</td>\n",
       "      <td>...</td>\n",
       "      <td>...</td>\n",
       "      <td>...</td>\n",
       "      <td>...</td>\n",
       "      <td>...</td>\n",
       "      <td>...</td>\n",
       "      <td>...</td>\n",
       "      <td>...</td>\n",
       "      <td>...</td>\n",
       "    </tr>\n",
       "    <tr>\n",
       "      <th>128</th>\n",
       "      <td>NaN</td>\n",
       "      <td>NaN</td>\n",
       "      <td>NaN</td>\n",
       "      <td>30S Mid-term Exam</td>\n",
       "      <td>NaN</td>\n",
       "      <td>NaN</td>\n",
       "      <td>NaN</td>\n",
       "      <td>NaN</td>\n",
       "      <td>30 T</td>\n",
       "      <td>NaN</td>\n",
       "      <td>30 S</td>\n",
       "      <td>NaN</td>\n",
       "      <td>30 TH</td>\n",
       "      <td>NaN</td>\n",
       "      <td>NaN</td>\n",
       "    </tr>\n",
       "    <tr>\n",
       "      <th>129</th>\n",
       "      <td>NaN</td>\n",
       "      <td>NaN</td>\n",
       "      <td>NaN</td>\n",
       "      <td>NaN</td>\n",
       "      <td>30M</td>\n",
       "      <td>NaN</td>\n",
       "      <td>NaN</td>\n",
       "      <td>NaN</td>\n",
       "      <td>NaN</td>\n",
       "      <td>NaN</td>\n",
       "      <td>NaN</td>\n",
       "      <td>NaN</td>\n",
       "      <td>NaN</td>\n",
       "      <td>NaN</td>\n",
       "      <td>30 T</td>\n",
       "    </tr>\n",
       "    <tr>\n",
       "      <th>130</th>\n",
       "      <td>NaN</td>\n",
       "      <td>NaN</td>\n",
       "      <td>NaN</td>\n",
       "      <td>NaN</td>\n",
       "      <td>NaN</td>\n",
       "      <td>NaN</td>\n",
       "      <td>NaN</td>\n",
       "      <td>NaN</td>\n",
       "      <td>31 W</td>\n",
       "      <td>29 TH</td>\n",
       "      <td>NaN</td>\n",
       "      <td>30T</td>\n",
       "      <td>31 F</td>\n",
       "      <td>30 S</td>\n",
       "      <td>NaN</td>\n",
       "    </tr>\n",
       "    <tr>\n",
       "      <th>131</th>\n",
       "      <td>NaN</td>\n",
       "      <td>NaN</td>\n",
       "      <td>NaN</td>\n",
       "      <td>NaN</td>\n",
       "      <td>31 T</td>\n",
       "      <td>30TH</td>\n",
       "      <td>31SUNDAY</td>\n",
       "      <td>NaN</td>\n",
       "      <td>NaN</td>\n",
       "      <td>NaN</td>\n",
       "      <td>31 SUNDAY</td>\n",
       "      <td>NaN</td>\n",
       "      <td>NaN</td>\n",
       "      <td>NaN</td>\n",
       "      <td>31 W</td>\n",
       "    </tr>\n",
       "    <tr>\n",
       "      <th>132</th>\n",
       "      <td>* Holiday only for Students Tentative schedule...</td>\n",
       "      <td>NaN</td>\n",
       "      <td>NaN</td>\n",
       "      <td>NaN</td>\n",
       "      <td>NaN</td>\n",
       "      <td>NaN</td>\n",
       "      <td>NaN</td>\n",
       "      <td>NaN</td>\n",
       "      <td>NaN</td>\n",
       "      <td>NaN</td>\n",
       "      <td>NaN</td>\n",
       "      <td>NaN</td>\n",
       "      <td>NaN</td>\n",
       "      <td>NaN</td>\n",
       "      <td>NaN</td>\n",
       "    </tr>\n",
       "  </tbody>\n",
       "</table>\n",
       "<p>130 rows × 15 columns</p>\n",
       "</div>"
      ],
      "text/plain": [
       "2                                                  NaN  July -23 Aug -23  \\\n",
       "3                                                  NaN       1 S     1 T   \n",
       "4                                                  NaN  2 SUNDAY     2 W   \n",
       "5                                                  NaN       NaN     NaN   \n",
       "6                                                  NaN       NaN     NaN   \n",
       "7                                                  NaN       3 M    3 TH   \n",
       "..                                                 ...       ...     ...   \n",
       "128                                                NaN       NaN     NaN   \n",
       "129                                                NaN       NaN     NaN   \n",
       "130                                                NaN       NaN     NaN   \n",
       "131                                                NaN       NaN     NaN   \n",
       "132  * Holiday only for Students Tentative schedule...       NaN     NaN   \n",
       "\n",
       "2             Sept -23              Oct -23                 Nov -23  \\\n",
       "3                  1 F             1 SUNDAY  1 W Kannada Rajyotsava   \n",
       "4                  2 S  2 M Gandhi Jayanthi                     NaN   \n",
       "5                  NaN                  NaN                     NaN   \n",
       "6                  NaN                  NaN                    2 TH   \n",
       "7             3 SUNDAY                  NaN                     NaN   \n",
       "..                 ...                  ...                     ...   \n",
       "128  30S Mid-term Exam                  NaN                     NaN   \n",
       "129                NaN                  30M                     NaN   \n",
       "130                NaN                  NaN                     NaN   \n",
       "131                NaN                 31 T                    30TH   \n",
       "132                NaN                  NaN                     NaN   \n",
       "\n",
       "2                                              Dec -23  NaN  \\\n",
       "3                                                  1 F  NaN   \n",
       "4    Publishing list of\\nS unsuccessful\\nstudents i...  NaN   \n",
       "5                                                  NaN  NaN   \n",
       "6                                                  NaN  NaN   \n",
       "7                                                  NaN  NaN   \n",
       "..                                                 ...  ...   \n",
       "128                                                NaN  NaN   \n",
       "129                                                NaN  NaN   \n",
       "130                                                NaN  NaN   \n",
       "131                                           31SUNDAY  NaN   \n",
       "132                                                NaN  NaN   \n",
       "\n",
       "2                                              Jan -24 Feb -24  \\\n",
       "3                                                   1M    1 TH   \n",
       "4                                                   2T     NaN   \n",
       "5                                                  NaN     2 F   \n",
       "6                                                  NaN     NaN   \n",
       "7    II, IV, VI Semester\\nB. Tech./II Semester\\nM.T...     NaN   \n",
       "..                                                 ...     ...   \n",
       "128                                               30 T     NaN   \n",
       "129                                                NaN     NaN   \n",
       "130                                               31 W   29 TH   \n",
       "131                                                NaN     NaN   \n",
       "132                                                NaN     NaN   \n",
       "\n",
       "2                               Mar -24  \\\n",
       "3                                   1 F   \n",
       "4                                   NaN   \n",
       "5    Applying for Branch\\nChange starts   \n",
       "6                                   NaN   \n",
       "7                                   NaN   \n",
       "..                                  ...   \n",
       "128                                30 S   \n",
       "129                                 NaN   \n",
       "130                                 NaN   \n",
       "131                           31 SUNDAY   \n",
       "132                                 NaN   \n",
       "\n",
       "2                                          Apr -24  \\\n",
       "3    Last Date to\\nApply for\\nBranch Change\\nUtsav   \n",
       "4                                              NaN   \n",
       "5                                              NaN   \n",
       "6                                              NaN   \n",
       "7                                              NaN   \n",
       "..                                             ...   \n",
       "128                                            NaN   \n",
       "129                                            NaN   \n",
       "130                                            30T   \n",
       "131                                            NaN   \n",
       "132                                            NaN   \n",
       "\n",
       "2                                              May -24   Jun -24 July -24  \n",
       "3                                                  1 W       1 S      1 M  \n",
       "4    Publishing list of\\n2 TH unsuccessful\\nstudent...       NaN      2 T  \n",
       "5                                                  NaN  2 SUNDAY      NaN  \n",
       "6                                                  NaN       NaN      NaN  \n",
       "7                                                  NaN       NaN      3 W  \n",
       "..                                                 ...       ...      ...  \n",
       "128                                              30 TH       NaN      NaN  \n",
       "129                                                NaN       NaN     30 T  \n",
       "130                                               31 F      30 S      NaN  \n",
       "131                                                NaN       NaN     31 W  \n",
       "132                                                NaN       NaN      NaN  \n",
       "\n",
       "[130 rows x 15 columns]"
      ]
     },
     "execution_count": 6,
     "metadata": {},
     "output_type": "execute_result"
    }
   ],
   "source": [
    "df"
   ]
  },
  {
   "cell_type": "code",
   "execution_count": 7,
   "id": "21fabf38",
   "metadata": {},
   "outputs": [],
   "source": [
    "import numpy as np"
   ]
  },
  {
   "cell_type": "code",
   "execution_count": 7,
   "id": "23214f3c",
   "metadata": {},
   "outputs": [],
   "source": [
    "df2=pd.read_excel('chat_data.xlsx')"
   ]
  },
  {
   "cell_type": "code",
   "execution_count": 8,
   "id": "234d9e95",
   "metadata": {},
   "outputs": [],
   "source": [
    "from datasets import load_dataset"
   ]
  },
  {
   "cell_type": "code",
   "execution_count": 9,
   "id": "26843684",
   "metadata": {},
   "outputs": [
    {
     "name": "stderr",
     "output_type": "stream",
     "text": [
      "Generating train split: 110 examples [00:00, 612.83 examples/s]\n"
     ]
    }
   ],
   "source": [
    "raw_dataset = load_dataset('csv', data_files = 'chat_data.csv')"
   ]
  },
  {
   "cell_type": "code",
   "execution_count": 10,
   "id": "7fd6ca15",
   "metadata": {},
   "outputs": [],
   "source": [
    "split = raw_dataset['train'].train_test_split(test_size=0.3, seed=42)"
   ]
  },
  {
   "cell_type": "code",
   "execution_count": 12,
   "id": "c5538e12",
   "metadata": {},
   "outputs": [],
   "source": [
    "from transformers import AutoTokenizer\n",
    "checkpoint = 'bert-base-cased'\n",
    "tokenizer = AutoTokenizer.from_pretrained(checkpoint)"
   ]
  },
  {
   "cell_type": "code",
   "execution_count": 13,
   "id": "08643529",
   "metadata": {},
   "outputs": [],
   "source": [
    "def tokenize_fn(batch):\n",
    "    return tokenizer(batch['questions'], truncation = True)"
   ]
  },
  {
   "cell_type": "code",
   "execution_count": 14,
   "id": "dc94770c",
   "metadata": {},
   "outputs": [
    {
     "name": "stderr",
     "output_type": "stream",
     "text": [
      "Map: 100%|██████████| 77/77 [00:00<00:00, 379.52 examples/s]\n",
      "Map: 100%|██████████| 33/33 [00:00<00:00, 535.76 examples/s]\n"
     ]
    }
   ],
   "source": [
    "tokenized_dataset = split.map(tokenize_fn, batched = True)"
   ]
  },
  {
   "cell_type": "code",
   "execution_count": 15,
   "id": "9e372b26",
   "metadata": {},
   "outputs": [],
   "source": [
    "vocab_size=20000\n",
    "maxlen=200"
   ]
  },
  {
   "cell_type": "code",
   "execution_count": 16,
   "id": "1fa0728f",
   "metadata": {},
   "outputs": [],
   "source": [
    "import torch\n",
    "from transformers import AutoModelForSequenceClassification, Trainer, TrainingArguments"
   ]
  },
  {
   "cell_type": "code",
   "execution_count": 17,
   "id": "0f8ffd49",
   "metadata": {},
   "outputs": [
    {
     "name": "stderr",
     "output_type": "stream",
     "text": [
      "Some weights of BertForSequenceClassification were not initialized from the model checkpoint at bert-base-cased and are newly initialized: ['classifier.bias', 'classifier.weight']\n",
      "You should probably TRAIN this model on a down-stream task to be able to use it for predictions and inference.\n"
     ]
    }
   ],
   "source": [
    "model = AutoModelForSequenceClassification.from_pretrained(checkpoint, num_labels = 2)"
   ]
  },
  {
   "cell_type": "code",
   "execution_count": 18,
   "id": "eff33d2a",
   "metadata": {},
   "outputs": [],
   "source": [
    "training_args = TrainingArguments(output_dir='training_dir',\n",
    "                                  evaluation_strategy='epoch',\n",
    "                                  save_strategy='epoch',\n",
    "                                  num_train_epochs=10,\n",
    "                                  per_device_train_batch_size=16,\n",
    "                                  per_device_eval_batch_size=64,\n",
    "                                  )"
   ]
  },
  {
   "cell_type": "code",
   "execution_count": 19,
   "id": "478ad0d3",
   "metadata": {},
   "outputs": [],
   "source": [
    "from sklearn.metrics import f1_score,accuracy_score"
   ]
  },
  {
   "cell_type": "code",
   "execution_count": 20,
   "id": "39b6634f",
   "metadata": {},
   "outputs": [],
   "source": [
    "def compute_metrics(logits_and_labels):\n",
    "    logits, labels = logits_and_labels\n",
    "    predictions = np.argmax(logits, axis=-1)\n",
    "    acc = np.mean(predictions == labels)\n",
    "    f1 = f1_score(labels, predictions, average = 'micro')\n",
    "    return {'accuracy': acc, 'f1_score': f1}"
   ]
  },
  {
   "cell_type": "code",
   "execution_count": 21,
   "id": "4e33c13d",
   "metadata": {},
   "outputs": [],
   "source": [
    "trainer = Trainer(model,\n",
    "                  training_args,\n",
    "                  train_dataset = tokenized_dataset[\"train\"],\n",
    "                  eval_dataset = tokenized_dataset[\"test\"],\n",
    "                  tokenizer=tokenizer,\n",
    "                  compute_metrics=compute_metrics)"
   ]
  },
  {
   "cell_type": "code",
   "execution_count": 23,
   "id": "d3a26f27",
   "metadata": {},
   "outputs": [
    {
     "data": {
      "text/html": [
       "\n",
       "    <div>\n",
       "      \n",
       "      <progress value='50' max='50' style='width:300px; height:20px; vertical-align: middle;'></progress>\n",
       "      [50/50 05:02, Epoch 10/10]\n",
       "    </div>\n",
       "    <table border=\"1\" class=\"dataframe\">\n",
       "  <thead>\n",
       " <tr style=\"text-align: left;\">\n",
       "      <th>Epoch</th>\n",
       "      <th>Training Loss</th>\n",
       "      <th>Validation Loss</th>\n",
       "      <th>Accuracy</th>\n",
       "      <th>F1 Score</th>\n",
       "    </tr>\n",
       "  </thead>\n",
       "  <tbody>\n",
       "    <tr>\n",
       "      <td>1</td>\n",
       "      <td>No log</td>\n",
       "      <td>0.148207</td>\n",
       "      <td>1.000000</td>\n",
       "      <td>1.000000</td>\n",
       "    </tr>\n",
       "    <tr>\n",
       "      <td>2</td>\n",
       "      <td>No log</td>\n",
       "      <td>0.045899</td>\n",
       "      <td>1.000000</td>\n",
       "      <td>1.000000</td>\n",
       "    </tr>\n",
       "    <tr>\n",
       "      <td>3</td>\n",
       "      <td>No log</td>\n",
       "      <td>0.015783</td>\n",
       "      <td>1.000000</td>\n",
       "      <td>1.000000</td>\n",
       "    </tr>\n",
       "    <tr>\n",
       "      <td>4</td>\n",
       "      <td>No log</td>\n",
       "      <td>0.007176</td>\n",
       "      <td>1.000000</td>\n",
       "      <td>1.000000</td>\n",
       "    </tr>\n",
       "    <tr>\n",
       "      <td>5</td>\n",
       "      <td>No log</td>\n",
       "      <td>0.003995</td>\n",
       "      <td>1.000000</td>\n",
       "      <td>1.000000</td>\n",
       "    </tr>\n",
       "    <tr>\n",
       "      <td>6</td>\n",
       "      <td>No log</td>\n",
       "      <td>0.002845</td>\n",
       "      <td>1.000000</td>\n",
       "      <td>1.000000</td>\n",
       "    </tr>\n",
       "    <tr>\n",
       "      <td>7</td>\n",
       "      <td>No log</td>\n",
       "      <td>0.002282</td>\n",
       "      <td>1.000000</td>\n",
       "      <td>1.000000</td>\n",
       "    </tr>\n",
       "    <tr>\n",
       "      <td>8</td>\n",
       "      <td>No log</td>\n",
       "      <td>0.001865</td>\n",
       "      <td>1.000000</td>\n",
       "      <td>1.000000</td>\n",
       "    </tr>\n",
       "    <tr>\n",
       "      <td>9</td>\n",
       "      <td>No log</td>\n",
       "      <td>0.001670</td>\n",
       "      <td>1.000000</td>\n",
       "      <td>1.000000</td>\n",
       "    </tr>\n",
       "    <tr>\n",
       "      <td>10</td>\n",
       "      <td>No log</td>\n",
       "      <td>0.001614</td>\n",
       "      <td>1.000000</td>\n",
       "      <td>1.000000</td>\n",
       "    </tr>\n",
       "  </tbody>\n",
       "</table><p>"
      ],
      "text/plain": [
       "<IPython.core.display.HTML object>"
      ]
     },
     "metadata": {},
     "output_type": "display_data"
    },
    {
     "data": {
      "text/plain": [
       "TrainOutput(global_step=50, training_loss=0.04661311149597168, metrics={'train_runtime': 310.4024, 'train_samples_per_second': 2.481, 'train_steps_per_second': 0.161, 'total_flos': 7176970701480.0, 'train_loss': 0.04661311149597168, 'epoch': 10.0})"
      ]
     },
     "execution_count": 23,
     "metadata": {},
     "output_type": "execute_result"
    }
   ],
   "source": [
    "trainer.train()"
   ]
  },
  {
   "cell_type": "code",
   "execution_count": 28,
   "id": "8a369e2c",
   "metadata": {},
   "outputs": [],
   "source": [
    "from transformers import pipeline"
   ]
  },
  {
   "cell_type": "code",
   "execution_count": 25,
   "id": "6165bbe5",
   "metadata": {},
   "outputs": [
    {
     "name": "stdout",
     "output_type": "stream",
     "text": [
      " Volume in drive C is OS\n",
      " Volume Serial Number is 54FE-CB04\n",
      "\n",
      " Directory of C:\\Users\\shivansh\\Chatbot\\training_dir\n",
      "\n",
      "27-02-2024  22:53    <DIR>          .\n",
      "27-02-2024  22:53    <DIR>          ..\n",
      "27-02-2024  22:49    <DIR>          checkpoint-10\n",
      "27-02-2024  22:50    <DIR>          checkpoint-15\n",
      "27-02-2024  22:50    <DIR>          checkpoint-20\n",
      "27-02-2024  22:51    <DIR>          checkpoint-25\n",
      "27-02-2024  22:51    <DIR>          checkpoint-30\n",
      "27-02-2024  22:52    <DIR>          checkpoint-35\n",
      "27-02-2024  22:52    <DIR>          checkpoint-40\n",
      "27-02-2024  22:52    <DIR>          checkpoint-45\n",
      "27-02-2024  22:49    <DIR>          checkpoint-5\n",
      "27-02-2024  22:53    <DIR>          checkpoint-50\n",
      "27-02-2024  22:45    <DIR>          runs\n",
      "               0 File(s)              0 bytes\n",
      "              13 Dir(s)  31,707,021,312 bytes free\n"
     ]
    }
   ],
   "source": [
    "ls training_dir"
   ]
  },
  {
   "cell_type": "code",
   "execution_count": 29,
   "id": "3d64a8fd",
   "metadata": {},
   "outputs": [],
   "source": [
    "saved_model = pipeline('text-classification',\n",
    "                       model = 'training_dir/checkpoint-50')"
   ]
  },
  {
   "cell_type": "code",
   "execution_count": 27,
   "id": "4055d73d",
   "metadata": {},
   "outputs": [],
   "source": [
    "predictions = saved_model(split['test']['questions'])"
   ]
  },
  {
   "cell_type": "code",
   "execution_count": 28,
   "id": "b2a75a86",
   "metadata": {},
   "outputs": [
    {
     "data": {
      "text/plain": [
       "[{'label': 'LABEL_0', 'score': 0.9969584941864014},\n",
       " {'label': 'LABEL_1', 'score': 0.9995785355567932},\n",
       " {'label': 'LABEL_1', 'score': 0.9995409250259399},\n",
       " {'label': 'LABEL_0', 'score': 0.996957540512085},\n",
       " {'label': 'LABEL_0', 'score': 0.9969717264175415},\n",
       " {'label': 'LABEL_1', 'score': 0.99956876039505},\n",
       " {'label': 'LABEL_1', 'score': 0.9995331764221191},\n",
       " {'label': 'LABEL_0', 'score': 0.9969909191131592},\n",
       " {'label': 'LABEL_1', 'score': 0.9995424747467041},\n",
       " {'label': 'LABEL_0', 'score': 0.9969700574874878}]"
      ]
     },
     "execution_count": 28,
     "metadata": {},
     "output_type": "execute_result"
    }
   ],
   "source": [
    "predictions[:10]"
   ]
  },
  {
   "cell_type": "code",
   "execution_count": 29,
   "id": "a4cb40ce",
   "metadata": {},
   "outputs": [],
   "source": [
    "def get_label(d):\n",
    "    return int(d['label'].split('_')[1])\n",
    "predictions = [get_label(d) for d in predictions]"
   ]
  },
  {
   "cell_type": "code",
   "execution_count": 30,
   "id": "7b332357",
   "metadata": {},
   "outputs": [
    {
     "data": {
      "text/plain": [
       "[0,\n",
       " 1,\n",
       " 1,\n",
       " 0,\n",
       " 0,\n",
       " 1,\n",
       " 1,\n",
       " 0,\n",
       " 1,\n",
       " 0,\n",
       " 0,\n",
       " 1,\n",
       " 0,\n",
       " 1,\n",
       " 1,\n",
       " 0,\n",
       " 1,\n",
       " 0,\n",
       " 1,\n",
       " 0,\n",
       " 0,\n",
       " 1,\n",
       " 0,\n",
       " 1,\n",
       " 1,\n",
       " 0,\n",
       " 1,\n",
       " 1,\n",
       " 1,\n",
       " 0,\n",
       " 0,\n",
       " 1,\n",
       " 1]"
      ]
     },
     "execution_count": 30,
     "metadata": {},
     "output_type": "execute_result"
    }
   ],
   "source": [
    "predictions"
   ]
  },
  {
   "cell_type": "code",
   "execution_count": 36,
   "id": "b4a86b7a",
   "metadata": {},
   "outputs": [
    {
     "name": "stdout",
     "output_type": "stream",
     "text": [
      "acc: 1.0\n"
     ]
    }
   ],
   "source": [
    "print(\"acc:\",accuracy_score(split['test']['label'], predictions))"
   ]
  },
  {
   "cell_type": "code",
   "execution_count": 37,
   "id": "863c654b",
   "metadata": {},
   "outputs": [
    {
     "name": "stdout",
     "output_type": "stream",
     "text": [
      "f1: 1.0\n"
     ]
    }
   ],
   "source": [
    "print(\"f1:\",f1_score(split['test']['label'], predictions, average = 'macro'))"
   ]
  },
  {
   "cell_type": "code",
   "execution_count": 38,
   "id": "8fd06fb0",
   "metadata": {},
   "outputs": [
    {
     "data": {
      "text/plain": [
       "'LABEL_1'"
      ]
     },
     "execution_count": 38,
     "metadata": {},
     "output_type": "execute_result"
    }
   ],
   "source": [
    "saved_model('when is the deepavali vacation ')[0]['label']"
   ]
  },
  {
   "cell_type": "code",
   "execution_count": 132,
   "id": "283f117c",
   "metadata": {},
   "outputs": [
    {
     "ename": "ValueError",
     "evalue": "the first two maketrans arguments must have equal length",
     "output_type": "error",
     "traceback": [
      "\u001b[1;31m---------------------------------------------------------------------------\u001b[0m",
      "\u001b[1;31mValueError\u001b[0m                                Traceback (most recent call last)",
      "Cell \u001b[1;32mIn[132], line 2\u001b[0m\n\u001b[0;32m      1\u001b[0m \u001b[38;5;28;01mimport\u001b[39;00m \u001b[38;5;21;01mstring\u001b[39;00m\n\u001b[1;32m----> 2\u001b[0m translator\u001b[38;5;241m=\u001b[39m\u001b[38;5;28;43mstr\u001b[39;49m\u001b[38;5;241;43m.\u001b[39;49m\u001b[43mmaketrans\u001b[49m\u001b[43m(\u001b[49m\u001b[38;5;124;43m'\u001b[39;49m\u001b[38;5;124;43m \u001b[39;49m\u001b[38;5;124;43m'\u001b[39;49m\u001b[43m,\u001b[49m\u001b[43mstring\u001b[49m\u001b[38;5;241;43m.\u001b[39;49m\u001b[43mpunctuation\u001b[49m\u001b[43m,\u001b[49m\u001b[38;5;124;43m'\u001b[39;49m\u001b[38;5;124;43m'\u001b[39;49m\u001b[43m)\u001b[49m\n",
      "\u001b[1;31mValueError\u001b[0m: the first two maketrans arguments must have equal length"
     ]
    }
   ],
   "source": [
    "import string\n",
    "translator=str.maketrans(' ',string.punctuation,'')"
   ]
  },
  {
   "cell_type": "code",
   "execution_count": null,
   "id": "20ad0292",
   "metadata": {},
   "outputs": [],
   "source": [
    "from spellchecker import SpellChecker\n",
    "spell=SpellChecker()\n",
    "def spellcheck(txt):\n",
    "    t=\"\"\n",
    "    for word in txt.split():\n",
    "        w=spell.correction(word)\n",
    "        if(w==None):\n",
    "               w=word\n",
    "        t+=w+\" \"\n",
    "    return t.strip()"
   ]
  },
  {
   "cell_type": "code",
   "execution_count": 11,
   "id": "660ab12c",
   "metadata": {},
   "outputs": [
    {
     "name": "stderr",
     "output_type": "stream",
     "text": [
      "[nltk_data] Downloading package stopwords to\n",
      "[nltk_data]     C:\\Users\\shivansh\\AppData\\Roaming\\nltk_data...\n",
      "[nltk_data]   Package stopwords is already up-to-date!\n"
     ]
    },
    {
     "data": {
      "text/plain": [
       "True"
      ]
     },
     "execution_count": 11,
     "metadata": {},
     "output_type": "execute_result"
    }
   ],
   "source": [
    "import nltk\n",
    "from nltk.corpus import stopwords\n",
    " \n",
    "nltk.download('stopwords')"
   ]
  },
  {
   "cell_type": "code",
   "execution_count": 166,
   "id": "15705ca9",
   "metadata": {},
   "outputs": [],
   "source": [
    "def replace(txt):\n",
    "    txt=txt.replace('midterm','mid term')\n",
    "    txt=txt.replace('retest','re test')\n",
    "    txt=txt.replace('make up','makeup')\n",
    "    txt=txt.replace('vii','seventh')\n",
    "    txt=txt.replace('iii','third')\n",
    "    txt=txt.replace('ii','second')\n",
    "    \n",
    "    txt=txt.replace(' iv ',' fourth ')\n",
    "    txt=txt.replace(' v ',' fifth ')\n",
    "    txt=txt.replace(' vi ',' sixth ')\n",
    "    \n",
    "    txt=txt.replace(' i ',' first ')\n",
    "    \n",
    "    \n",
    "    return txt"
   ]
  },
  {
   "cell_type": "code",
   "execution_count": 169,
   "id": "d7d0c47f",
   "metadata": {},
   "outputs": [],
   "source": [
    "from nltk.stem import WordNetLemmatizer\n",
    "from nltk.tokenize import word_tokenize\n",
    "ls=WordNetLemmatizer()\n",
    "def preprocess_text(txt):\n",
    "    txt=txt.lower()\n",
    "    txt=txt.translate(translator)\n",
    "    txt=txt.replace('\\n',' ')\n",
    "    print(txt)\n",
    "    txt=replace(txt)\n",
    "    \n",
    "    stop_words = set(stopwords.words('english'))\n",
    "    tokens=[x for x in word_tokenize(txt) if x not in stop_words]\n",
    "    \n",
    "    t=\"\"\n",
    "    for i in tokens:\n",
    "        t+=ls.lemmatize(i)+\" \"\n",
    "    t=t.strip()\n",
    "    return t\n",
    "        "
   ]
  },
  {
   "cell_type": "code",
   "execution_count": 155,
   "id": "67e7cd7c",
   "metadata": {},
   "outputs": [],
   "source": [
    "from sentence_transformers import SentenceTransformer\n",
    "model = SentenceTransformer('bert-base-nli-mean-tokens')\n"
   ]
  },
  {
   "cell_type": "code",
   "execution_count": 156,
   "id": "6b782731",
   "metadata": {},
   "outputs": [
    {
     "data": {
      "text/plain": [
       "'LABEL_1'"
      ]
     },
     "execution_count": 156,
     "metadata": {},
     "output_type": "execute_result"
    }
   ],
   "source": [
    "saved_model('When mid term exams')[0]['label']"
   ]
  },
  {
   "cell_type": "code",
   "execution_count": 157,
   "id": "b7d8128f",
   "metadata": {},
   "outputs": [],
   "source": [
    "def calc_sim(t1,t2):\n",
    "    emb1=model.encode([t1])[0]\n",
    "    emb2=model.encode([t2])[0]\n",
    "    sim= cosine_similarity([emb1],[emb2])\n",
    "    return sim"
   ]
  },
  {
   "cell_type": "code",
   "execution_count": 158,
   "id": "5cfb94c1",
   "metadata": {},
   "outputs": [],
   "source": [
    "from sklearn.metrics.pairwise import cosine_similarity"
   ]
  },
  {
   "cell_type": "code",
   "execution_count": 159,
   "id": "5375b1fb",
   "metadata": {},
   "outputs": [
    {
     "name": "stderr",
     "output_type": "stream",
     "text": [
      "[nltk_data] Downloading package words to\n",
      "[nltk_data]     C:\\Users\\shivansh\\AppData\\Roaming\\nltk_data...\n",
      "[nltk_data]   Package words is already up-to-date!\n"
     ]
    }
   ],
   "source": [
    "nltk.download('words')\n",
    "from nltk.corpus import words\n",
    "eng_words=words.words()"
   ]
  },
  {
   "cell_type": "code",
   "execution_count": 160,
   "id": "17147659",
   "metadata": {},
   "outputs": [],
   "source": [
    "def check_vocab(txt):\n",
    "    tokens= word_tokenize(txt)\n",
    "    for w in tokens:\n",
    "        if w not in eng_words:\n",
    "            return (w, False)\n",
    "    return (w,True)"
   ]
  },
  {
   "cell_type": "code",
   "execution_count": 161,
   "id": "3ba5c668",
   "metadata": {},
   "outputs": [],
   "source": [
    "def direct_search(txt):\n",
    "    for i in df.select_dtypes(include='object').columns:\n",
    "            for j in df[i]:\n",
    "                if type(j)!=float and len(j)>0:\n",
    "                    j=preprocess_text(j)\n",
    "                    if txt in j:\n",
    "                        print(f'{i}:{j}')"
   ]
  },
  {
   "cell_type": "code",
   "execution_count": 162,
   "id": "dfee8526",
   "metadata": {},
   "outputs": [],
   "source": [
    "import tensorflow as tf\n",
    "import tensorflow_hub as hub\n",
    "module_url = \"https://tfhub.dev/google/universal-sentence-encoder/4\" \n",
    "model2 = hub.load(module_url)\n",
    "def calc_sim2(t1,t2):\n",
    "    emb1=model2([t1])[0]\n",
    "    emb2=model2([t2])[0]\n",
    "    sim= cosine_similarity([emb1],[emb2])\n",
    "    return sim"
   ]
  },
  {
   "cell_type": "code",
   "execution_count": 163,
   "id": "17b597af",
   "metadata": {},
   "outputs": [
    {
     "name": "stdout",
     "output_type": "stream",
     "text": [
      "when are my mid term exams\n"
     ]
    },
    {
     "data": {
      "text/plain": [
       "'mid term exam'"
      ]
     },
     "execution_count": 163,
     "metadata": {},
     "output_type": "execute_result"
    }
   ],
   "source": [
    "preprocess_text(\"When are my mid term exams?\")"
   ]
  },
  {
   "cell_type": "code",
   "execution_count": 172,
   "id": "07cffb86",
   "metadata": {
    "scrolled": true
   },
   "outputs": [
    {
     "name": "stdout",
     "output_type": "stream",
     "text": [
      "User: when is my midterm?\n",
      "when is my midterm\n",
      "LABEL_1\n",
      "mid term\n",
      "True\n",
      " holiday only for students tentative schedule for midterm retest 08112023 to 25112023 subject to change as per mahe circular tentative schedule for midterm retest 08042024 to 25042024\n",
      "1 s\n",
      "July -23:1\n",
      "[[0.67060506]]\n",
      "User: bye\n",
      "GoodBye\n"
     ]
    }
   ],
   "source": [
    "import numpy as np\n",
    "from sklearn.metrics.pairwise import cosine_similarity\n",
    "from sklearn.feature_extraction.text import TfidfVectorizer\n",
    "while True:\n",
    "    input_text=input('User: ')\n",
    "    if input_text.lower()=='bye':\n",
    "        print('GoodBye')\n",
    "        break\n",
    "    input_text=input_text.lower().translate(translator)\n",
    "    #input_text=spellcheck(input_text)\n",
    "    input_text=preprocess_text(input_text)\n",
    "    label=saved_model(input_text)[0]['label']\n",
    "    print(label)\n",
    "    print(input_text)\n",
    "    f=0\n",
    "    if(label=='LABEL_1'):\n",
    "        w,b=check_vocab(input_text)\n",
    "        print(b)\n",
    "        if  b!= True:\n",
    "            direct_search(w)\n",
    "        else:\n",
    "            for i in df.select_dtypes(include='object').columns:\n",
    "                for j in df[i]:\n",
    "                    if type(j)!=float and len(j)>0:\n",
    "                        j=preprocess_text(j)\n",
    "                        sim=calc_sim(input_text,j)\n",
    "                        \n",
    "                        if sim>0.5:\n",
    "                            \n",
    "                            print(f'{i}:{j}')\n",
    "                            print(sim)\n",
    "                            f=1\n",
    "                            break\n",
    "                if f==1:\n",
    "                    break\n",
    "                        \n",
    "                        \n",
    "            \n",
    "    \n",
    "    else:\n",
    "        print(nlp(transformers.Conversation(input_text), pad_token_id=50256))"
   ]
  },
  {
   "cell_type": "code",
   "execution_count": 165,
   "id": "becdb14f",
   "metadata": {},
   "outputs": [
    {
     "data": {
      "text/plain": [
       "' secondfourthvi semester b tech second semester mtech mca 3w class start seventhi semester b techfourthsemester mca project work start'"
      ]
     },
     "execution_count": 165,
     "metadata": {},
     "output_type": "execute_result"
    }
   ],
   "source": [
    "replace(' ii iv vi semester b tech ii semester mtech mca 3w class start viii semester b tech iv semester mca project work start')"
   ]
  },
  {
   "cell_type": "code",
   "execution_count": null,
   "id": "0be8b0c5",
   "metadata": {},
   "outputs": [],
   "source": []
  }
 ],
 "metadata": {
  "kernelspec": {
   "display_name": "chatbot",
   "language": "python",
   "name": "chatbot"
  },
  "language_info": {
   "codemirror_mode": {
    "name": "ipython",
    "version": 3
   },
   "file_extension": ".py",
   "mimetype": "text/x-python",
   "name": "python",
   "nbconvert_exporter": "python",
   "pygments_lexer": "ipython3",
   "version": "3.9.13"
  }
 },
 "nbformat": 4,
 "nbformat_minor": 5
}
